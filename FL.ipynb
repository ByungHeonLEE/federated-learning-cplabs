{
  "nbformat": 4,
  "nbformat_minor": 0,
  "metadata": {
    "colab": {
      "provenance": []
    },
    "kernelspec": {
      "name": "python3",
      "display_name": "Python 3"
    },
    "language_info": {
      "name": "python"
    }
  },
  "cells": [
    {
      "cell_type": "code",
      "execution_count": 7,
      "metadata": {
        "id": "A8-59rWl59nF"
      },
      "outputs": [],
      "source": [
        "import torch\n",
        "import torch.nn as nn\n",
        "import torch.nn.functional as F\n",
        "import torch.optim as optim\n",
        "import torchvision\n",
        "import torchvision.transforms as transforms\n",
        "from torch.utils.data import DataLoader, random_split, Subset\n",
        "import numpy as np\n",
        "import matplotlib.pyplot as plt"
      ]
    },
    {
      "cell_type": "code",
      "source": [
        "# GPU 사용 설정\n",
        "device = torch.device('cuda' if torch.cuda.is_available() else 'cpu')"
      ],
      "metadata": {
        "id": "DoJ63PGs5_v0"
      },
      "execution_count": 2,
      "outputs": []
    },
    {
      "cell_type": "code",
      "source": [
        "# CIFAR-10 데이터셋 로드 및 전처리\n",
        "transform = transforms.Compose(\n",
        "    [transforms.RandomHorizontalFlip(),\n",
        "     transforms.RandomCrop(32, padding=4),\n",
        "     transforms.ToTensor(),\n",
        "     transforms.Normalize((0.5, 0.5, 0.5), (0.5, 0.5, 0.5))])\n",
        "\n",
        "\n",
        "trainset = torchvision.datasets.CIFAR10(root='./data', train=True,\n",
        "                                        download=True, transform=transform)\n",
        "testset = torchvision.datasets.CIFAR10(root='./data', train=False,\n",
        "                                       download=True, transform=transform)"
      ],
      "metadata": {
        "colab": {
          "base_uri": "https://localhost:8080/"
        },
        "id": "oE4PQaHE6BKh",
        "outputId": "b53d9511-cc7c-44c8-f565-bd132f4ba870"
      },
      "execution_count": 13,
      "outputs": [
        {
          "output_type": "stream",
          "name": "stdout",
          "text": [
            "Files already downloaded and verified\n",
            "Files already downloaded and verified\n"
          ]
        }
      ]
    },
    {
      "cell_type": "code",
      "source": [
        "# 클라이언트 수\n",
        "num_clients = 3\n",
        "\n",
        "# 데이터셋을 클라이언트 수로 나눔\n",
        "lengths = [len(trainset) // num_clients] * num_clients\n",
        "for i in range(len(trainset) % num_clients):\n",
        "    lengths[i] += 1\n",
        "\n",
        "client_datasets = random_split(trainset, lengths)\n",
        "\n",
        "trainloaders = [DataLoader(client_dataset, batch_size=100, shuffle=True) for client_dataset in client_datasets]\n",
        "testloader = DataLoader(testset, batch_size=100, shuffle=False)"
      ],
      "metadata": {
        "id": "qYwN1QEm6EGf"
      },
      "execution_count": 14,
      "outputs": []
    },
    {
      "cell_type": "code",
      "source": [
        "class SimpleCNN(nn.Module):\n",
        "    def __init__(self):\n",
        "        super(SimpleCNN, self).__init__()\n",
        "        self.conv1 = nn.Conv2d(3, 32, 3, padding=1)\n",
        "        self.conv2 = nn.Conv2d(32, 64, 3, padding=1)\n",
        "        self.pool = nn.MaxPool2d(2, 2)\n",
        "        self.fc1 = nn.Linear(64 * 8 * 8, 512)\n",
        "        self.fc2 = nn.Linear(512, 128)\n",
        "        self.fc3 = nn.Linear(128, 10)\n",
        "\n",
        "    def forward(self, x):\n",
        "        x = self.pool(F.relu(self.conv1(x)))\n",
        "        x = self.pool(F.relu(self.conv2(x)))\n",
        "        x = x.view(-1, 64 * 8 * 8)\n",
        "        x = F.relu(self.fc1(x))\n",
        "        x = F.relu(self.fc2(x))\n",
        "        x = self.fc3(x)\n",
        "        return x"
      ],
      "metadata": {
        "id": "pDzKc7-Z6GTV"
      },
      "execution_count": 15,
      "outputs": []
    },
    {
      "cell_type": "code",
      "source": [
        "# 모델 초기화 및 복사 함수\n",
        "def get_model():\n",
        "    return SimpleCNN().to(device)\n",
        "\n",
        "def copy_model(target_model, source_model):\n",
        "    target_model.load_state_dict(source_model.state_dict())"
      ],
      "metadata": {
        "id": "OXbz8Fwl6fxj"
      },
      "execution_count": 16,
      "outputs": []
    },
    {
      "cell_type": "code",
      "source": [
        "def federated_learning(num_rounds, num_epochs, learning_rate):\n",
        "    global_model = get_model()\n",
        "    client_models = [get_model() for _ in range(num_clients)]\n",
        "    accuracy_list = []\n",
        "\n",
        "    for round in range(num_rounds):\n",
        "        print(f'Round {round+1}/{num_rounds}')\n",
        "\n",
        "        # 각 클라이언트에서 로컬 학습 수행\n",
        "        for client_idx, client_model in enumerate(client_models):\n",
        "            optimizer = optim.SGD(client_model.parameters(), lr=learning_rate, momentum=0.9)\n",
        "            criterion = nn.CrossEntropyLoss()\n",
        "\n",
        "            for epoch in range(num_epochs):\n",
        "                running_loss = 0.0\n",
        "                for inputs, labels in trainloaders[client_idx]:\n",
        "                    inputs, labels = inputs.to(device), labels.to(device)\n",
        "\n",
        "                    optimizer.zero_grad()\n",
        "                    outputs = client_model(inputs)\n",
        "                    loss = criterion(outputs, labels)\n",
        "                    loss.backward()\n",
        "                    optimizer.step()\n",
        "\n",
        "                    running_loss += loss.item()\n",
        "\n",
        "                print(f'Client {client_idx+1}, Epoch {epoch+1}, Loss: {running_loss/len(trainloaders[client_idx])}')\n",
        "\n",
        "        # 중앙 서버에서 글로벌 모델 업데이트\n",
        "        global_dict = global_model.state_dict()\n",
        "        for k in global_dict.keys():\n",
        "            global_dict[k] = torch.stack([client_models[i].state_dict()[k].float() for i in range(num_clients)], 0).mean(0)\n",
        "\n",
        "        global_model.load_state_dict(global_dict)\n",
        "\n",
        "        # 각 클라이언트 모델을 글로벌 모델로 업데이트\n",
        "        for client_model in client_models:\n",
        "            copy_model(client_model, global_model)\n",
        "\n",
        "        # 각 라운드마다 글로벌 모델 성능 테스트\n",
        "        accuracy = test_model(global_model)\n",
        "        accuracy_list.append(accuracy)\n",
        "        print(f'Round {round+1}, Global Model Accuracy: {accuracy:.2f}%')\n",
        "\n",
        "    return global_model, accuracy_list"
      ],
      "metadata": {
        "id": "FfVrO2pO6mQn"
      },
      "execution_count": 19,
      "outputs": []
    },
    {
      "cell_type": "code",
      "source": [
        "# 테스트 함수 정의\n",
        "def test_model(model):\n",
        "    model.eval()\n",
        "    correct = 0\n",
        "    total = 0\n",
        "    with torch.no_grad():\n",
        "        for data in testloader:\n",
        "            images, labels = data\n",
        "            images, labels = images.to(device), labels.to(device)\n",
        "            outputs = model(images)\n",
        "            _, predicted = torch.max(outputs.data, 1)\n",
        "            total += labels.size(0)\n",
        "            correct += (predicted == labels).sum().item()\n",
        "\n",
        "    accuracy = 100 * correct / total\n",
        "    print(f'Accuracy of the global model on the 10000 test images: {accuracy:.2f}%')\n",
        "    return accuracy"
      ],
      "metadata": {
        "id": "_YCOYFQn6m08"
      },
      "execution_count": 18,
      "outputs": []
    },
    {
      "cell_type": "code",
      "source": [
        "# 연합학습 실행 및 성능 테스트\n",
        "global_model, accuracy_list = federated_learning(num_rounds=5, num_epochs=3, learning_rate=0.01)\n",
        "\n",
        "\n",
        "# 성능 시각화\n",
        "plt.figure()\n",
        "plt.plot(range(1, len(accuracy_list) + 1), accuracy_list, marker='o')\n",
        "plt.xlabel('Round')\n",
        "plt.ylabel('Accuracy (%)')\n",
        "plt.title('Global Model Accuracy on CIFAR-10 Test Set per Round')\n",
        "plt.grid(True)\n",
        "plt.show()"
      ],
      "metadata": {
        "colab": {
          "base_uri": "https://localhost:8080/"
        },
        "id": "H0DWlhE06oSV",
        "outputId": "cdf5a5a7-641c-4666-bdea-49e6fc7b9e4a"
      },
      "execution_count": null,
      "outputs": [
        {
          "output_type": "stream",
          "name": "stdout",
          "text": [
            "Round 1/5\n",
            "Client 1, Epoch 1, Loss: 2.194660859907459\n",
            "Client 1, Epoch 2, Loss: 1.868167899325936\n",
            "Client 1, Epoch 3, Loss: 1.6541572937708415\n"
          ]
        }
      ]
    }
  ]
}